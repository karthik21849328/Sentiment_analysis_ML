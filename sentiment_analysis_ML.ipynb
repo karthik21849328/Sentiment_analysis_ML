{
 "cells": [
  {
   "cell_type": "markdown",
   "id": "20b53196-07d3-427f-af1b-0284d8a05ed1",
   "metadata": {},
   "source": [
    "THIS MODEL CLASSIFIES THE GIVEN TEXT HAVING POSTIVE SENTIMENT OR NEGATIVE SENTIMENT"
   ]
  },
  {
   "cell_type": "code",
   "execution_count": 103,
   "id": "747cc5e4-ff03-41f9-9ffa-a52c84db257a",
   "metadata": {},
   "outputs": [],
   "source": [
    "import pandas as pd "
   ]
  },
  {
   "cell_type": "code",
   "execution_count": 104,
   "id": "0a912b95-405d-4d3d-a9c2-c8ed12a97fee",
   "metadata": {},
   "outputs": [],
   "source": [
    "train=pd.read_csv('labeledTrainData.tsv',header=0,delimiter='\\t',quoting=3)"
   ]
  },
  {
   "cell_type": "code",
   "execution_count": 105,
   "id": "4d3d5c5e-45ff-4a82-a830-07c6dbed6f49",
   "metadata": {},
   "outputs": [
    {
     "data": {
      "text/plain": [
       "array(['id', 'sentiment', 'review'], dtype=object)"
      ]
     },
     "execution_count": 105,
     "metadata": {},
     "output_type": "execute_result"
    }
   ],
   "source": [
    "train.columns.values"
   ]
  },
  {
   "cell_type": "code",
   "execution_count": 106,
   "id": "c9b1440a-0674-4674-98bb-acc4ec54052c",
   "metadata": {},
   "outputs": [
    {
     "data": {
      "text/html": [
       "<div>\n",
       "<style scoped>\n",
       "    .dataframe tbody tr th:only-of-type {\n",
       "        vertical-align: middle;\n",
       "    }\n",
       "\n",
       "    .dataframe tbody tr th {\n",
       "        vertical-align: top;\n",
       "    }\n",
       "\n",
       "    .dataframe thead th {\n",
       "        text-align: right;\n",
       "    }\n",
       "</style>\n",
       "<table border=\"1\" class=\"dataframe\">\n",
       "  <thead>\n",
       "    <tr style=\"text-align: right;\">\n",
       "      <th></th>\n",
       "      <th>id</th>\n",
       "      <th>sentiment</th>\n",
       "      <th>review</th>\n",
       "    </tr>\n",
       "  </thead>\n",
       "  <tbody>\n",
       "    <tr>\n",
       "      <th>0</th>\n",
       "      <td>\"5814_8\"</td>\n",
       "      <td>1</td>\n",
       "      <td>\"With all this stuff going down at the moment ...</td>\n",
       "    </tr>\n",
       "    <tr>\n",
       "      <th>1</th>\n",
       "      <td>\"2381_9\"</td>\n",
       "      <td>1</td>\n",
       "      <td>\"\\\"The Classic War of the Worlds\\\" by Timothy ...</td>\n",
       "    </tr>\n",
       "    <tr>\n",
       "      <th>2</th>\n",
       "      <td>\"7759_3\"</td>\n",
       "      <td>0</td>\n",
       "      <td>\"The film starts with a manager (Nicholas Bell...</td>\n",
       "    </tr>\n",
       "    <tr>\n",
       "      <th>3</th>\n",
       "      <td>\"3630_4\"</td>\n",
       "      <td>0</td>\n",
       "      <td>\"It must be assumed that those who praised thi...</td>\n",
       "    </tr>\n",
       "    <tr>\n",
       "      <th>4</th>\n",
       "      <td>\"9495_8\"</td>\n",
       "      <td>1</td>\n",
       "      <td>\"Superbly trashy and wondrously unpretentious ...</td>\n",
       "    </tr>\n",
       "  </tbody>\n",
       "</table>\n",
       "</div>"
      ],
      "text/plain": [
       "         id  sentiment                                             review\n",
       "0  \"5814_8\"          1  \"With all this stuff going down at the moment ...\n",
       "1  \"2381_9\"          1  \"\\\"The Classic War of the Worlds\\\" by Timothy ...\n",
       "2  \"7759_3\"          0  \"The film starts with a manager (Nicholas Bell...\n",
       "3  \"3630_4\"          0  \"It must be assumed that those who praised thi...\n",
       "4  \"9495_8\"          1  \"Superbly trashy and wondrously unpretentious ..."
      ]
     },
     "execution_count": 106,
     "metadata": {},
     "output_type": "execute_result"
    }
   ],
   "source": [
    "train.head()"
   ]
  },
  {
   "cell_type": "code",
   "execution_count": 107,
   "id": "6143ebc0-e227-4505-a77f-bb6ed6c98e3a",
   "metadata": {},
   "outputs": [
    {
     "data": {
      "text/plain": [
       "(25000, 3)"
      ]
     },
     "execution_count": 107,
     "metadata": {},
     "output_type": "execute_result"
    }
   ],
   "source": [
    "train.shape"
   ]
  },
  {
   "cell_type": "code",
   "execution_count": 108,
   "id": "b812a418-3f23-4a02-aa04-7779b631e7d1",
   "metadata": {},
   "outputs": [
    {
     "data": {
      "text/plain": [
       "id           0\n",
       "sentiment    0\n",
       "review       0\n",
       "dtype: int64"
      ]
     },
     "execution_count": 108,
     "metadata": {},
     "output_type": "execute_result"
    }
   ],
   "source": [
    "train.isnull().sum()\n",
    "#There are no null values "
   ]
  },
  {
   "cell_type": "code",
   "execution_count": 109,
   "id": "d425140b-3776-499b-8007-2fae932b16cc",
   "metadata": {},
   "outputs": [
    {
     "data": {
      "text/plain": [
       "'\"With all this stuff going down at the moment with MJ i\\'ve started listening to his music, watching the odd documentary here and there, watched The Wiz and watched Moonwalker again. Maybe i just want to get a certain insight into this guy who i thought was really cool in the eighties just to maybe make up my mind whether he is guilty or innocent. Moonwalker is part biography, part feature film which i remember going to see at the cinema when it was originally released. Some of it has subtle messages about MJ\\'s feeling towards the press and also the obvious message of drugs are bad m\\'kay.<br /><br />Visually impressive but of course this is all about Michael Jackson so unless you remotely like MJ in anyway then you are going to hate this and find it boring. Some may call MJ an egotist for consenting to the making of this movie BUT MJ and most of his fans would say that he made it for the fans which if true is really nice of him.<br /><br />The actual feature film bit when it finally starts is only on for 20 minutes or so excluding the Smooth Criminal sequence and Joe Pesci is convincing as a psychopathic all powerful drug lord. Why he wants MJ dead so bad is beyond me. Because MJ overheard his plans? Nah, Joe Pesci\\'s character ranted that he wanted people to know it is he who is supplying drugs etc so i dunno, maybe he just hates MJ\\'s music.<br /><br />Lots of cool things in this like MJ turning into a car and a robot and the whole Speed Demon sequence. Also, the director must have had the patience of a saint when it came to filming the kiddy Bad sequence as usually directors hate working with one kid let alone a whole bunch of them performing a complex dance scene.<br /><br />Bottom line, this movie is for people who like MJ on one level or another (which i think is most people). If not, then stay away. It does try and give off a wholesome message and ironically MJ\\'s bestest buddy in this movie is a girl! Michael Jackson is truly one of the most talented people ever to grace this planet but is he guilty? Well, with all the attention i\\'ve gave this subject....hmmm well i don\\'t know because people can be different behind closed doors, i know this for a fact. He is either an extremely nice but stupid guy or one of the most sickest liars. I hope he is not the latter.\"'"
      ]
     },
     "execution_count": 109,
     "metadata": {},
     "output_type": "execute_result"
    }
   ],
   "source": [
    "train.review[0]"
   ]
  },
  {
   "cell_type": "markdown",
   "id": "fb678ddf-b10d-4770-88dd-79763b48e21e",
   "metadata": {},
   "source": [
    "By Above we can observe that the text is having HTML tags, Stopwords, Special characters, before we going ahead we must pre-process all the text in the review column"
   ]
  },
  {
   "cell_type": "markdown",
   "id": "52037603-408b-43b4-9242-d4bf3083a692",
   "metadata": {},
   "source": [
    "WE SHALL REMOVE THE HTML TAGS FROM THE TEXT USING BEAUTIFUL SOUP "
   ]
  },
  {
   "cell_type": "code",
   "execution_count": 110,
   "id": "642fc743-af1e-4692-becf-cd80d492a855",
   "metadata": {},
   "outputs": [],
   "source": [
    "from bs4 import BeautifulSoup"
   ]
  },
  {
   "cell_type": "code",
   "execution_count": 111,
   "id": "23293e54-2ba9-4a86-875d-67986265d8f3",
   "metadata": {},
   "outputs": [
    {
     "name": "stdout",
     "output_type": "stream",
     "text": [
      "\"With all this stuff going down at the moment with MJ i've started listening to his music, watching the odd documentary here and there, watched The Wiz and watched Moonwalker again. Maybe i just want to get a certain insight into this guy who i thought was really cool in the eighties just to maybe make up my mind whether he is guilty or innocent. Moonwalker is part biography, part feature film which i remember going to see at the cinema when it was originally released. Some of it has subtle messages about MJ's feeling towards the press and also the obvious message of drugs are bad m'kay.Visually impressive but of course this is all about Michael Jackson so unless you remotely like MJ in anyway then you are going to hate this and find it boring. Some may call MJ an egotist for consenting to the making of this movie BUT MJ and most of his fans would say that he made it for the fans which if true is really nice of him.The actual feature film bit when it finally starts is only on for 20 minutes or so excluding the Smooth Criminal sequence and Joe Pesci is convincing as a psychopathic all powerful drug lord. Why he wants MJ dead so bad is beyond me. Because MJ overheard his plans? Nah, Joe Pesci's character ranted that he wanted people to know it is he who is supplying drugs etc so i dunno, maybe he just hates MJ's music.Lots of cool things in this like MJ turning into a car and a robot and the whole Speed Demon sequence. Also, the director must have had the patience of a saint when it came to filming the kiddy Bad sequence as usually directors hate working with one kid let alone a whole bunch of them performing a complex dance scene.Bottom line, this movie is for people who like MJ on one level or another (which i think is most people). If not, then stay away. It does try and give off a wholesome message and ironically MJ's bestest buddy in this movie is a girl! Michael Jackson is truly one of the most talented people ever to grace this planet but is he guilty? Well, with all the attention i've gave this subject....hmmm well i don't know because people can be different behind closed doors, i know this for a fact. He is either an extremely nice but stupid guy or one of the most sickest liars. I hope he is not the latter.\"\n"
     ]
    }
   ],
   "source": [
    "soup=BeautifulSoup(train.review[0])\n",
    "Filt_text=soup.get_text()\n",
    "print(Filt_text)"
   ]
  },
  {
   "cell_type": "markdown",
   "id": "5b83acc6-b9ae-438c-b4d4-97fe0ccb0ea9",
   "metadata": {},
   "source": [
    "REMOVING SPECIAL CHARACTER FROM THE TEXT USING REGEX"
   ]
  },
  {
   "cell_type": "code",
   "execution_count": 112,
   "id": "c7ed9009-21f6-4d8d-88d9-97d7adaae0b6",
   "metadata": {},
   "outputs": [
    {
     "name": "stdout",
     "output_type": "stream",
     "text": [
      " With all this stuff going down at the moment with MJ i ve started listening to his music  watching the odd documentary here and there  watched The Wiz and watched Moonwalker again  Maybe i just want to get a certain insight into this guy who i thought was really cool in the eighties just to maybe make up my mind whether he is guilty or innocent  Moonwalker is part biography  part feature film which i remember going to see at the cinema when it was originally released  Some of it has subtle messages about MJ s feeling towards the press and also the obvious message of drugs are bad m kay Visually impressive but of course this is all about Michael Jackson so unless you remotely like MJ in anyway then you are going to hate this and find it boring  Some may call MJ an egotist for consenting to the making of this movie BUT MJ and most of his fans would say that he made it for the fans which if true is really nice of him The actual feature film bit when it finally starts is only on for    minutes or so excluding the Smooth Criminal sequence and Joe Pesci is convincing as a psychopathic all powerful drug lord  Why he wants MJ dead so bad is beyond me  Because MJ overheard his plans  Nah  Joe Pesci s character ranted that he wanted people to know it is he who is supplying drugs etc so i dunno  maybe he just hates MJ s music Lots of cool things in this like MJ turning into a car and a robot and the whole Speed Demon sequence  Also  the director must have had the patience of a saint when it came to filming the kiddy Bad sequence as usually directors hate working with one kid let alone a whole bunch of them performing a complex dance scene Bottom line  this movie is for people who like MJ on one level or another  which i think is most people   If not  then stay away  It does try and give off a wholesome message and ironically MJ s bestest buddy in this movie is a girl  Michael Jackson is truly one of the most talented people ever to grace this planet but is he guilty  Well  with all the attention i ve gave this subject    hmmm well i don t know because people can be different behind closed doors  i know this for a fact  He is either an extremely nice but stupid guy or one of the most sickest liars  I hope he is not the latter  \n"
     ]
    }
   ],
   "source": [
    "import re \n",
    "filt_text=re.sub('[^a-zA-Z]',' ',Filt_text)\n",
    "print(filt_text)"
   ]
  },
  {
   "cell_type": "markdown",
   "id": "6f799a52-b40a-4254-892d-285e07a701ce",
   "metadata": {},
   "source": [
    "IT IS GOOD PRACTICE TO CONVERT ALL THE WORDS INTO LOWER CASE"
   ]
  },
  {
   "cell_type": "code",
   "execution_count": 113,
   "id": "e30143bb-6912-4877-8ed6-e0f228644059",
   "metadata": {},
   "outputs": [
    {
     "data": {
      "text/plain": [
       "' with all this stuff going down at the moment with mj i ve started listening to his music  watching the odd documentary here and there  watched the wiz and watched moonwalker again  maybe i just want to get a certain insight into this guy who i thought was really cool in the eighties just to maybe make up my mind whether he is guilty or innocent  moonwalker is part biography  part feature film which i remember going to see at the cinema when it was originally released  some of it has subtle messages about mj s feeling towards the press and also the obvious message of drugs are bad m kay visually impressive but of course this is all about michael jackson so unless you remotely like mj in anyway then you are going to hate this and find it boring  some may call mj an egotist for consenting to the making of this movie but mj and most of his fans would say that he made it for the fans which if true is really nice of him the actual feature film bit when it finally starts is only on for    minutes or so excluding the smooth criminal sequence and joe pesci is convincing as a psychopathic all powerful drug lord  why he wants mj dead so bad is beyond me  because mj overheard his plans  nah  joe pesci s character ranted that he wanted people to know it is he who is supplying drugs etc so i dunno  maybe he just hates mj s music lots of cool things in this like mj turning into a car and a robot and the whole speed demon sequence  also  the director must have had the patience of a saint when it came to filming the kiddy bad sequence as usually directors hate working with one kid let alone a whole bunch of them performing a complex dance scene bottom line  this movie is for people who like mj on one level or another  which i think is most people   if not  then stay away  it does try and give off a wholesome message and ironically mj s bestest buddy in this movie is a girl  michael jackson is truly one of the most talented people ever to grace this planet but is he guilty  well  with all the attention i ve gave this subject    hmmm well i don t know because people can be different behind closed doors  i know this for a fact  he is either an extremely nice but stupid guy or one of the most sickest liars  i hope he is not the latter  '"
      ]
     },
     "execution_count": 113,
     "metadata": {},
     "output_type": "execute_result"
    }
   ],
   "source": [
    "filt_text.lower()"
   ]
  },
  {
   "cell_type": "code",
   "execution_count": 114,
   "id": "d708a361-1fff-4c6c-a87c-6e6205f4a335",
   "metadata": {},
   "outputs": [],
   "source": [
    "words=filt_text.split()"
   ]
  },
  {
   "cell_type": "markdown",
   "id": "8343698a-05b1-46fc-9da9-dced1014f263",
   "metadata": {},
   "source": [
    "As a part of pre processing we should remove stop words from the given text"
   ]
  },
  {
   "cell_type": "code",
   "execution_count": 115,
   "id": "1042b265-f13c-4203-b921-4156a6d6f2f5",
   "metadata": {},
   "outputs": [
    {
     "name": "stdout",
     "output_type": "stream",
     "text": [
      "['i', 'me', 'my', 'myself', 'we', 'our', 'ours', 'ourselves', 'you', \"you're\", \"you've\", \"you'll\", \"you'd\", 'your', 'yours', 'yourself', 'yourselves', 'he', 'him', 'his', 'himself', 'she', \"she's\", 'her', 'hers', 'herself', 'it', \"it's\", 'its', 'itself', 'they', 'them', 'their', 'theirs', 'themselves', 'what', 'which', 'who', 'whom', 'this', 'that', \"that'll\", 'these', 'those', 'am', 'is', 'are', 'was', 'were', 'be', 'been', 'being', 'have', 'has', 'had', 'having', 'do', 'does', 'did', 'doing', 'a', 'an', 'the', 'and', 'but', 'if', 'or', 'because', 'as', 'until', 'while', 'of', 'at', 'by', 'for', 'with', 'about', 'against', 'between', 'into', 'through', 'during', 'before', 'after', 'above', 'below', 'to', 'from', 'up', 'down', 'in', 'out', 'on', 'off', 'over', 'under', 'again', 'further', 'then', 'once', 'here', 'there', 'when', 'where', 'why', 'how', 'all', 'any', 'both', 'each', 'few', 'more', 'most', 'other', 'some', 'such', 'no', 'nor', 'not', 'only', 'own', 'same', 'so', 'than', 'too', 'very', 's', 't', 'can', 'will', 'just', 'don', \"don't\", 'should', \"should've\", 'now', 'd', 'll', 'm', 'o', 're', 've', 'y', 'ain', 'aren', \"aren't\", 'couldn', \"couldn't\", 'didn', \"didn't\", 'doesn', \"doesn't\", 'hadn', \"hadn't\", 'hasn', \"hasn't\", 'haven', \"haven't\", 'isn', \"isn't\", 'ma', 'mightn', \"mightn't\", 'mustn', \"mustn't\", 'needn', \"needn't\", 'shan', \"shan't\", 'shouldn', \"shouldn't\", 'wasn', \"wasn't\", 'weren', \"weren't\", 'won', \"won't\", 'wouldn', \"wouldn't\"]\n"
     ]
    }
   ],
   "source": [
    "from nltk.corpus import stopwords\n",
    "stopps=stopwords.words('english')\n",
    "print(stopps)"
   ]
  },
  {
   "cell_type": "code",
   "execution_count": 116,
   "id": "3fcb1485-a4cc-4591-bd2f-5f96b8a68cdc",
   "metadata": {},
   "outputs": [
    {
     "name": "stdout",
     "output_type": "stream",
     "text": [
      "['With', 'stuff', 'going', 'moment', 'MJ', 'started', 'listening', 'music', 'watching', 'odd', 'documentary', 'watched', 'The', 'Wiz', 'watched', 'Moonwalker', 'Maybe', 'want', 'get', 'certain', 'insight', 'guy', 'thought', 'really', 'cool', 'eighties', 'maybe', 'make', 'mind', 'whether', 'guilty', 'innocent', 'Moonwalker', 'part', 'biography', 'part', 'feature', 'film', 'remember', 'going', 'see', 'cinema', 'originally', 'released', 'Some', 'subtle', 'messages', 'MJ', 'feeling', 'towards', 'press', 'also', 'obvious', 'message', 'drugs', 'bad', 'kay', 'Visually', 'impressive', 'course', 'Michael', 'Jackson', 'unless', 'remotely', 'like', 'MJ', 'anyway', 'going', 'hate', 'find', 'boring', 'Some', 'may', 'call', 'MJ', 'egotist', 'consenting', 'making', 'movie', 'BUT', 'MJ', 'fans', 'would', 'say', 'made', 'fans', 'true', 'really', 'nice', 'The', 'actual', 'feature', 'film', 'bit', 'finally', 'starts', 'minutes', 'excluding', 'Smooth', 'Criminal', 'sequence', 'Joe', 'Pesci', 'convincing', 'psychopathic', 'powerful', 'drug', 'lord', 'Why', 'wants', 'MJ', 'dead', 'bad', 'beyond', 'Because', 'MJ', 'overheard', 'plans', 'Nah', 'Joe', 'Pesci', 'character', 'ranted', 'wanted', 'people', 'know', 'supplying', 'drugs', 'etc', 'dunno', 'maybe', 'hates', 'MJ', 'music', 'Lots', 'cool', 'things', 'like', 'MJ', 'turning', 'car', 'robot', 'whole', 'Speed', 'Demon', 'sequence', 'Also', 'director', 'must', 'patience', 'saint', 'came', 'filming', 'kiddy', 'Bad', 'sequence', 'usually', 'directors', 'hate', 'working', 'one', 'kid', 'let', 'alone', 'whole', 'bunch', 'performing', 'complex', 'dance', 'scene', 'Bottom', 'line', 'movie', 'people', 'like', 'MJ', 'one', 'level', 'another', 'think', 'people', 'If', 'stay', 'away', 'It', 'try', 'give', 'wholesome', 'message', 'ironically', 'MJ', 'bestest', 'buddy', 'movie', 'girl', 'Michael', 'Jackson', 'truly', 'one', 'talented', 'people', 'ever', 'grace', 'planet', 'guilty', 'Well', 'attention', 'gave', 'subject', 'hmmm', 'well', 'know', 'people', 'different', 'behind', 'closed', 'doors', 'know', 'fact', 'He', 'either', 'extremely', 'nice', 'stupid', 'guy', 'one', 'sickest', 'liars', 'I', 'hope', 'latter']\n"
     ]
    }
   ],
   "source": [
    "clean= [w for w in words if not  w in stopps]\n",
    "\n",
    "print(clean)\n",
    "\n",
    "#words = [w for w in words if not w in stopwords.words(\"english\")]\n",
    "#print (words)"
   ]
  },
  {
   "cell_type": "markdown",
   "id": "e42efb8a-6b1b-4df2-93e4-0e320cab2350",
   "metadata": {},
   "source": [
    "pre processing all the text in each record "
   ]
  },
  {
   "cell_type": "code",
   "execution_count": 117,
   "id": "5764504a-450b-4238-a9de-4f18eeaac85b",
   "metadata": {},
   "outputs": [],
   "source": [
    "from bs4 import BeautifulSoup\n",
    "import re \n",
    "from nltk.corpus import stopwords"
   ]
  },
  {
   "cell_type": "code",
   "execution_count": 118,
   "id": "e60c90a5-07b4-4a08-b451-60d377355ce0",
   "metadata": {},
   "outputs": [],
   "source": [
    "def pre_processing(raw_text):\n",
    "    soup=BeautifulSoup(raw_text,'html.parser')   #removing html tags if any \n",
    "    text1=soup.get_text()\n",
    "    #removal of sepcial charcater if any \n",
    "    text2=re.sub('[^a-zA-Z]',' ',text1)\n",
    "    #converting the above words into \n",
    "    text3=text2.lower().split()\n",
    "    stops=set(stopwords.words('english'))\n",
    "    clean_text=[w for w in text3 if not w in stops]\n",
    "    return(\" \".join(clean_text))\n",
    "    "
   ]
  },
  {
   "cell_type": "code",
   "execution_count": 119,
   "id": "720adcc7-dd83-40ef-8437-e17e65ac1dfa",
   "metadata": {},
   "outputs": [
    {
     "data": {
      "text/plain": [
       "1"
      ]
     },
     "execution_count": 119,
     "metadata": {},
     "output_type": "execute_result"
    }
   ],
   "source": [
    "train.sentiment[0]"
   ]
  },
  {
   "cell_type": "code",
   "execution_count": 120,
   "id": "3c5b5ffb-88fc-4ad9-ba01-6559d7b297f9",
   "metadata": {},
   "outputs": [
    {
     "name": "stderr",
     "output_type": "stream",
     "text": [
      "C:\\Users\\abhis\\AppData\\Local\\Temp\\ipykernel_22632\\3524055099.py:2: MarkupResemblesLocatorWarning: The input looks more like a filename than markup. You may want to open this file and pass the filehandle into Beautiful Soup.\n",
      "  soup=BeautifulSoup(raw_text,'html.parser')   #removing html tags if any\n"
     ]
    },
    {
     "data": {
      "text/plain": [
       "'would rated series perfect outstanding consistently high quality story character development last episode season final episode th season unending would certainly appear asgard killed rushed unconvincing unceremonious fashion left disbelief extremely rushed end series obvious many story arcs originally scheduled occur least one season guess would rapidly accelerated stories position stargate sg franchise two upcoming direct dvd moves unless asgard return future sg movie good explanation apparent extinction think fans cheated poor clean loose ends poor end otherwise brilliant sci fi series'"
      ]
     },
     "execution_count": 120,
     "metadata": {},
     "output_type": "execute_result"
    }
   ],
   "source": [
    "clean_text_records=list()\n",
    "numbers=train['review'].size\n",
    "\n",
    "\n",
    "for i in range(0,numbers):\n",
    "\n",
    "    clean_text_records.append(pre_processing(train.review[i]))\n",
    "\n",
    "clean_text_records[10000]"
   ]
  },
  {
   "cell_type": "code",
   "execution_count": 121,
   "id": "abde78b3-bf71-48b6-8a63-a0cb05501969",
   "metadata": {},
   "outputs": [
    {
     "data": {
      "text/plain": [
       "'\"I would have rated the series a perfect 10 for outstanding and consistently high quality story and character development had it not been for the last episode of Season 10! <br /><br />The final episode of the 10th season \\\\\"Unending\\\\\", where (it would certainly appear that) the Asgard have been killed-off in a very rushed, unconvincing and very unceremonious fashion, left me in disbelief! <br /><br />From the extremely rushed end of the series, it\\'s obvious that many of the story arcs were originally scheduled to occur over at least one more season. My guess would be that they rapidly accelerated these stories to position the Stargate SG-1 franchise for the two upcoming direct-to-DVD moves!<br /><br />Unless the Asgard return in a future SG-1 movie (with a very good explanation of the \\\\\"apparent\\\\\" extinction), I think that the fans have been cheated with a poor clean-up of loose-ends!<br /><br />Poor end to an otherwise brilliant sci-fi series.\"'"
      ]
     },
     "execution_count": 121,
     "metadata": {},
     "output_type": "execute_result"
    }
   ],
   "source": [
    "train.review[10000]"
   ]
  },
  {
   "cell_type": "markdown",
   "id": "8f49e782-b55b-4f50-b21a-7a7969557048",
   "metadata": {},
   "source": [
    "Now the text has been pre_processed"
   ]
  },
  {
   "cell_type": "code",
   "execution_count": 122,
   "id": "9cffc759-674d-48f9-930a-aa8bee4f74b8",
   "metadata": {},
   "outputs": [
    {
     "name": "stdout",
     "output_type": "stream",
     "text": [
      "[[0 0 0 ... 0 0 0]\n",
      " [0 0 0 ... 0 0 0]\n",
      " [0 0 0 ... 0 0 0]\n",
      " ...\n",
      " [0 0 0 ... 0 0 0]\n",
      " [0 0 0 ... 0 0 0]\n",
      " [0 0 0 ... 0 0 0]]\n"
     ]
    }
   ],
   "source": [
    "from sklearn.feature_extraction.text import CountVectorizer\n",
    "vectorizer=CountVectorizer(max_features=1000)\n",
    "vector=vectorizer.fit_transform(clean_text_records)\n",
    "text_num=vector.toarray()\n",
    "print(text_num)"
   ]
  },
  {
   "cell_type": "markdown",
   "id": "8ee97fb5-a7a8-417a-ac9f-f4d4f7daf2c3",
   "metadata": {},
   "source": [
    "SO NOW WE HAVE CONVERTED TEXT INTO CORRESPONDING NUMERIC VALUE, WE WILL GIVING AS INPUT TO THE MACHINE LEARNING MODEL "
   ]
  },
  {
   "cell_type": "code",
   "execution_count": 123,
   "id": "ef5a00a6-d78c-4882-8d0c-8576787f5513",
   "metadata": {},
   "outputs": [
    {
     "name": "stdout",
     "output_type": "stream",
     "text": [
      "0.7691199999999999\n"
     ]
    }
   ],
   "source": [
    "from sklearn.ensemble import RandomForestClassifier\n",
    "from sklearn.model_selection import cross_val_score\n",
    "import numpy as np\n",
    "\n",
    "forest=RandomForestClassifier(n_estimators=10,n_jobs=4)\n",
    "forest.fit(text_num,train['sentiment'])\n",
    "print (np.mean(cross_val_score(forest,text_num,train[\"sentiment\"],cv=10)))"
   ]
  },
  {
   "cell_type": "markdown",
   "id": "1609d95e-acd0-4be3-ad42-87762a6eef22",
   "metadata": {},
   "source": [
    "RANDOM FOREST MODEL IS HAVING THE ACCURACY OF 77%"
   ]
  },
  {
   "cell_type": "code",
   "execution_count": 124,
   "id": "adf6c723-ef24-421e-ad6c-2f79d2886c39",
   "metadata": {},
   "outputs": [],
   "source": [
    "test=pd.read_csv('testData.tsv',header=0,delimiter='\\t',quoting=3)"
   ]
  },
  {
   "cell_type": "code",
   "execution_count": 125,
   "id": "6ec84e56-258c-48cc-a9cf-1e7e8a3d50c7",
   "metadata": {},
   "outputs": [
    {
     "data": {
      "text/plain": [
       "array(['id', 'review'], dtype=object)"
      ]
     },
     "execution_count": 125,
     "metadata": {},
     "output_type": "execute_result"
    }
   ],
   "source": [
    "test.columns.values"
   ]
  },
  {
   "cell_type": "markdown",
   "id": "dcba31f6-4444-43c9-b456-28ed727fdaf6",
   "metadata": {},
   "source": [
    "As this the test dataset having only two columns "
   ]
  },
  {
   "cell_type": "code",
   "execution_count": 126,
   "id": "6a87131a-9d14-4bd7-8f6b-f168cad5c6c8",
   "metadata": {},
   "outputs": [
    {
     "name": "stderr",
     "output_type": "stream",
     "text": [
      "C:\\Users\\abhis\\AppData\\Local\\Temp\\ipykernel_22632\\3524055099.py:2: MarkupResemblesLocatorWarning: The input looks more like a filename than markup. You may want to open this file and pass the filehandle into Beautiful Soup.\n",
      "  soup=BeautifulSoup(raw_text,'html.parser')   #removing html tags if any\n"
     ]
    },
    {
     "data": {
      "text/plain": [
       "array([[0, 0, 0, ..., 1, 0, 0],\n",
       "       [0, 0, 0, ..., 0, 0, 0],\n",
       "       [0, 0, 0, ..., 0, 0, 0],\n",
       "       ...,\n",
       "       [0, 0, 0, ..., 0, 0, 0],\n",
       "       [0, 0, 0, ..., 0, 0, 0],\n",
       "       [0, 0, 0, ..., 0, 0, 0]], dtype=int64)"
      ]
     },
     "execution_count": 126,
     "metadata": {},
     "output_type": "execute_result"
    }
   ],
   "source": [
    "test_clean=list()\n",
    "nums=test.review.size\n",
    "\n",
    "for j in range(0,nums):\n",
    "\n",
    "    test_clean.append(pre_processing(test.review[j]))\n",
    "\n",
    "test_num=vectorizer.transform(test_clean)\n",
    "clean_nums=test_num.toarray()\n",
    "clean_nums"
   ]
  },
  {
   "cell_type": "markdown",
   "id": "67444ace-aa9e-406b-a6c0-c70dab7d2a6d",
   "metadata": {},
   "source": [
    "To predict the sentiment of the given text "
   ]
  },
  {
   "cell_type": "code",
   "execution_count": 127,
   "id": "d6770737-ed9b-4b29-9a43-e5282fa2e4a2",
   "metadata": {},
   "outputs": [
    {
     "data": {
      "text/plain": [
       "(25000,)"
      ]
     },
     "execution_count": 127,
     "metadata": {},
     "output_type": "execute_result"
    }
   ],
   "source": [
    "result=forest.predict(clean_nums)\n",
    "result.shape"
   ]
  },
  {
   "cell_type": "code",
   "execution_count": 128,
   "id": "4ef7b3c8-3a72-44d6-8b27-3f8179e1e2ea",
   "metadata": {},
   "outputs": [],
   "source": [
    "output=pd.DataFrame(data={'id':test['id'],'sentiment':result})"
   ]
  },
  {
   "cell_type": "code",
   "execution_count": 129,
   "id": "c6b63c22-2c0e-4376-b5d7-1461322107a6",
   "metadata": {},
   "outputs": [],
   "source": [
    "output.to_csv(\"bag_of_words\", index=False, quoting=3)"
   ]
  },
  {
   "cell_type": "code",
   "execution_count": 139,
   "id": "2c75c1e6-55f6-4b9e-a609-15d09c74720a",
   "metadata": {},
   "outputs": [
    {
     "data": {
      "text/plain": [
       "array([0], dtype=int64)"
      ]
     },
     "execution_count": 139,
     "metadata": {},
     "output_type": "execute_result"
    }
   ],
   "source": [
    "piggy=[]\n",
    "text_piggy=['she is very bad ']\n",
    "\n",
    "\n",
    "#clean_text=pre_processing(text_piggy)\n",
    "#clean_text\n",
    "\n",
    "pigy_vector=vectorizer.transform(text_piggy)\n",
    "pigy_num=pigy_vector.toarray()\n",
    "\n",
    "piggy_op=forest.predict(pigy_num)\n",
    "piggy_op\n",
    " "
   ]
  },
  {
   "cell_type": "code",
   "execution_count": null,
   "id": "cacf04a7-49a1-4bd1-ab29-fabb0ad10a0d",
   "metadata": {},
   "outputs": [],
   "source": []
  },
  {
   "cell_type": "code",
   "execution_count": null,
   "id": "ce149224-df6a-4a23-bac6-8d4d9ba38d7a",
   "metadata": {},
   "outputs": [],
   "source": []
  }
 ],
 "metadata": {
  "kernelspec": {
   "display_name": "Python 3 (ipykernel)",
   "language": "python",
   "name": "python3"
  },
  "language_info": {
   "codemirror_mode": {
    "name": "ipython",
    "version": 3
   },
   "file_extension": ".py",
   "mimetype": "text/x-python",
   "name": "python",
   "nbconvert_exporter": "python",
   "pygments_lexer": "ipython3",
   "version": "3.11.4"
  }
 },
 "nbformat": 4,
 "nbformat_minor": 5
}
